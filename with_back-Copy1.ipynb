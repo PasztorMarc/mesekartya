{
 "cells": [
  {
   "cell_type": "code",
   "execution_count": 12,
   "id": "76f537e2",
   "metadata": {},
   "outputs": [],
   "source": [
    "import os\n",
    "import numpy as np\n",
    "import pandas as pd\n",
    "from PIL import Image\n",
    "import seaborn as sns\n",
    "from PyPDF2 import PdfMerger\n",
    "import matplotlib.pyplot as plt\n",
    "sns.set_theme()"
   ]
  },
  {
   "cell_type": "code",
   "execution_count": null,
   "id": "745bbb6e",
   "metadata": {},
   "outputs": [],
   "source": [
    "TYPE = 'minions'"
   ]
  },
  {
   "cell_type": "code",
   "execution_count": 13,
   "id": "667b2d60",
   "metadata": {},
   "outputs": [
    {
     "data": {
      "text/plain": [
       "(['reworked/spells\\\\Burger-@ Pittya(12-10-2022-10_16_56).png',\n",
       "  'reworked/spells\\\\Cbw-Climbing(6-10-2022-15_3_43).png',\n",
       "  'reworked/spells\\\\Cyberwarriorz(3-10-2022-9_32_52).png',\n",
       "  'reworked/spells\\\\Get-Sniped(3-10-2022-13_58_17).png'],\n",
       " ['000.png', '000.png', '000.png', '000.png'])"
      ]
     },
     "execution_count": 13,
     "metadata": {},
     "output_type": "execute_result"
    }
   ],
   "source": [
    "PATH_TO_PICS = f'reworked/{TYPE}'     #path to folder of the pictures\n",
    "images = [os.path.join(PATH_TO_PICS, f) for f in os.listdir(PATH_TO_PICS)][4:8]\n",
    "backs = []\n",
    "for i in range(4):\n",
    "    backs.append('000.png')\n",
    "images, backs"
   ]
  },
  {
   "cell_type": "code",
   "execution_count": 27,
   "id": "fa6bede6",
   "metadata": {},
   "outputs": [
    {
     "name": "stdout",
     "output_type": "stream",
     "text": [
      "Page size: 2481 3510\n",
      "Num of pics in each row each col: 2 2\n",
      "Back width, back height: 1177 1650\n",
      "Front width, back height: 1095 1535\n"
     ]
    }
   ],
   "source": [
    "width, height = int(8.27 * 300), int(11.7 * 300) # A4 at 300dpi\n",
    "orig_w, orig_h = 785, 1100                       #original size of the pictures\n",
    "sf = 1.5 * 0.92                                  #scaling factor\n",
    "back_w, back_h = 1177, 1650                      #desired size of the cards calculated with the scaling factor \n",
    "minion_w, minion_h = 1095, 1535\n",
    "pic_in_row, pic_in_col = int(width/back_w), int(height/back_h)     #number of pics in each row and col with the new size    \n",
    "n = pic_in_row * pic_in_col\n",
    "\n",
    "print(f'Page size: {width} {height}')\n",
    "print(f'Num of pics in each row each col: {pic_in_row} {pic_in_col}')\n",
    "print(f'Back width, back height: {back_w} {back_h}', )\n",
    "print(f'Front width, back height: {minion_w} {minion_h}')"
   ]
  },
  {
   "cell_type": "code",
   "execution_count": 29,
   "id": "59fd235f",
   "metadata": {},
   "outputs": [
    {
     "name": "stdout",
     "output_type": "stream",
     "text": [
      "[[20, 20], [1197, 20], [20, 1670], [1197, 1670]]\n",
      "[[70, 35], [1165, 35], [70, 1570], [1165, 1570]]\n",
      "[[20, 20], [1197, 20], [20, 1670], [1197, 1670]]\n",
      "[[70, 35], [1247, 35], [70, 1685], [1247, 1685]]\n"
     ]
    }
   ],
   "source": [
    "#generate position of the pictures\n",
    "back_boxes = []\n",
    "front_boxes = []\n",
    "for j in range(pic_in_row):\n",
    "    for i in range(pic_in_col):\n",
    "        back_boxes.append([i * back_w + 20,j*back_h + 20])\n",
    "        front_boxes.append([i * minion_w + 20 + 50,j*minion_h + 35])\n",
    "        \n",
    "        \n",
    "        \n",
    "print(back_boxes)\n",
    "print(front_boxes)        \n",
    "\n",
    "front_boxes[1][0] = back_boxes[1][0] + 50\n",
    "front_boxes[3][0] = back_boxes[3][0] + 50\n",
    "front_boxes[2][1] = back_boxes[2][1] + 15\n",
    "front_boxes[3][1] = back_boxes[3][1] + 15\n",
    "\n",
    "print(back_boxes)\n",
    "print(front_boxes)       "
   ]
  },
  {
   "cell_type": "code",
   "execution_count": 30,
   "id": "113af01b",
   "metadata": {},
   "outputs": [],
   "source": [
    "back_groups = [backs[i:i+n] for i in range(0, len(backs), n)]\n",
    "front_groups = [images[i:i+n] for i in range(0, len(images), n)]"
   ]
  },
  {
   "cell_type": "code",
   "execution_count": 20,
   "id": "9558cec7",
   "metadata": {},
   "outputs": [],
   "source": [
    "for i, group in enumerate(front_groups):\n",
    "    page = Image.new('RGB', (width, height), 'white')                #create a blank page\n",
    "    for idx,k in enumerate(group):\n",
    "        try:\n",
    "            rgba = np.array(Image.open(k))                          #read the image\n",
    "            rgba[rgba[...,-1]==0] = [255,255,255,255]                 #transparent part to white\n",
    "            curr_pic = Image.fromarray(rgba).resize((minion_w, minion_h), Image.ANTIALIAS) #resize pics, interpol\n",
    "            page.paste(curr_pic, box=front_boxes[idx]),                   #put pics to the blank bage at the given location\n",
    "        except IndexError:\n",
    "            print('No more pic.')\n",
    "        except Exception as e:\n",
    "             print(e)\n",
    "    \n",
    "page.save('pages/page{}.pdf'.format(i))                               #save pic\n",
    "    \n",
    "\n"
   ]
  },
  {
   "cell_type": "code",
   "execution_count": 21,
   "id": "e7eb0591",
   "metadata": {},
   "outputs": [],
   "source": [
    "for i, group in enumerate(back_groups):\n",
    "    page = Image.new('RGB', (width, height), 'white')                #create a blank page\n",
    "    for idx,k in enumerate(group):\n",
    "        try:\n",
    "            rgba = np.array(Image.open(k))                          #read the image\n",
    "            rgba[rgba[...,-1]==0] = [255,255,255,255]                 #transparent part to white\n",
    "            curr_pic = Image.fromarray(rgba).resize((back_w, back_h), Image.ANTIALIAS) #resize pics, interpol\n",
    "            page.paste(curr_pic, box=back_boxes[idx]),                   #put pics to the blank bage at the given location\n",
    "        except IndexError:\n",
    "            print('No more pic.')\n",
    "        except Exception as e:\n",
    "             print(e)\n",
    "    \n",
    "page.save('pages/page{}.pdf'.format(i+1))                               #save pic"
   ]
  },
  {
   "cell_type": "code",
   "execution_count": 22,
   "id": "63768a6e",
   "metadata": {},
   "outputs": [],
   "source": [
    "page_num = len(os.listdir('pages'))\n",
    "pdfs = ['pages/page' + str(i) + '.pdf' for i in range(page_num)]\n",
    "\n",
    "merger = PdfMerger()\n",
    "\n",
    "for pdf in pdfs:\n",
    "    merger.append(pdf)\n",
    "\n",
    "merger.write(\"test_gerinek_3.pdf\")\n",
    "merger.close()"
   ]
  },
  {
   "cell_type": "code",
   "execution_count": null,
   "id": "b3bfdb2d",
   "metadata": {},
   "outputs": [],
   "source": []
  },
  {
   "cell_type": "code",
   "execution_count": null,
   "id": "817f8ca6",
   "metadata": {},
   "outputs": [],
   "source": []
  },
  {
   "cell_type": "code",
   "execution_count": null,
   "id": "69ab86e4",
   "metadata": {},
   "outputs": [],
   "source": []
  }
 ],
 "metadata": {
  "kernelspec": {
   "display_name": "Python 3",
   "language": "python",
   "name": "python3"
  },
  "language_info": {
   "codemirror_mode": {
    "name": "ipython",
    "version": 3
   },
   "file_extension": ".py",
   "mimetype": "text/x-python",
   "name": "python",
   "nbconvert_exporter": "python",
   "pygments_lexer": "ipython3",
   "version": "3.8.8"
  }
 },
 "nbformat": 4,
 "nbformat_minor": 5
}
